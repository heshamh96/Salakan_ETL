{
 "cells": [
  {
   "cell_type": "code",
   "execution_count": 9,
   "id": "d05eaf93-8afb-48fb-b808-3b51b852d331",
   "metadata": {},
   "outputs": [],
   "source": [
    "def home_page():\n",
    "    print(\"choose your Source \\n\")\n",
    "    print(\"Enter 1 for CSV \\n\")\n",
    "    print(\"Enter 2 for json \\n\")\n",
    "    print(\"Enter 3 for Sql-Server \\n\")\n",
    "    print(\"Enter 4 for Denodo \\n\")\n",
    "    Src_Choice=input(\"your Choice ...\")\n",
    "    return Src_Choice\n",
    "\n",
    "    "
   ]
  },
  {
   "cell_type": "code",
   "execution_count": 10,
   "id": "b4a7a303-38e3-4e68-90e9-ea8e512f4ee6",
   "metadata": {},
   "outputs": [
    {
     "name": "stdout",
     "output_type": "stream",
     "text": [
      "choose your Source \n",
      "\n",
      "Enter 1 for CSV \n",
      "\n",
      "Enter 2 for json \n",
      "\n",
      "Enter 3 for Sql-Server \n",
      "\n",
      "Enter 4 for Denodo \n",
      "\n"
     ]
    },
    {
     "name": "stdin",
     "output_type": "stream",
     "text": [
      "your Choice ... 3\n"
     ]
    },
    {
     "data": {
      "text/plain": [
       "'3'"
      ]
     },
     "execution_count": 10,
     "metadata": {},
     "output_type": "execute_result"
    }
   ],
   "source": [
    "import Interface as ui"
   ]
  },
  {
   "cell_type": "code",
   "execution_count": 1,
   "id": "c4c7d064-1dab-40e2-8c60-5afca8bd5d31",
   "metadata": {},
   "outputs": [],
   "source": [
    "import pyodbc \n",
    "def Set_Up_SQL_Server_Connection():\n",
    "\n",
    "# Some other example server values are\n",
    "# server = 'localhost\\sqlexpress' # for a named instance\n",
    "# server = 'myserver,port' # to specify an alternate port\n",
    "    server = input(\"Enter The Server Name\")\n",
    "    port=input(\"Enter the Port number\")\n",
    "    database = input(\"Enter the Database Name\") \n",
    "    username = input(\"Enter your Username\") \n",
    "    password = input(\"Enter your Password\") \n",
    "    cnxn = pyodbc.connect('DRIVER={ODBC Driver 17 for SQL Server};SERVER='+server+','+port+';DATABASE='+database+';UID='+username+';PWD='+ password)\n",
    "    cursor = cnxn.cursor()\n",
    "    return cursor"
   ]
  },
  {
   "cell_type": "code",
   "execution_count": null,
   "id": "611ae0bc-82cb-4bf6-8c1a-27dbbd14e27c",
   "metadata": {},
   "outputs": [],
   "source": [
    "Set_Up_SQL_Server_Connection()"
   ]
  },
  {
   "cell_type": "code",
   "execution_count": null,
   "id": "459525c8-ce57-4db7-8c14-160fb1700660",
   "metadata": {},
   "outputs": [],
   "source": []
  }
 ],
 "metadata": {
  "kernelspec": {
   "display_name": "Python 3 (ipykernel)",
   "language": "python",
   "name": "python3"
  },
  "language_info": {
   "codemirror_mode": {
    "name": "ipython",
    "version": 3
   },
   "file_extension": ".py",
   "mimetype": "text/x-python",
   "name": "python",
   "nbconvert_exporter": "python",
   "pygments_lexer": "ipython3",
   "version": "3.7.11"
  }
 },
 "nbformat": 4,
 "nbformat_minor": 5
}
